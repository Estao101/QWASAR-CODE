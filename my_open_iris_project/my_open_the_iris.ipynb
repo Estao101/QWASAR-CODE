{
 "cells": [
  {
   "cell_type": "code",
   "execution_count": 60,
   "id": "2957fb22",
   "metadata": {},
   "outputs": [],
   "source": [
    "import pandas as pd\n",
    "\n",
    "#load the dataset\n",
    "def load_dataset():\n",
    "    dataset = pd.read_csv('iris.csv' , index_col=False)\n",
    "    return dataset"
   ]
  },
  {
   "cell_type": "code",
   "execution_count": 61,
   "id": "ae74df2d",
   "metadata": {},
   "outputs": [],
   "source": [
    "# Summarize the dataset\n",
    "\n",
    "def summarize_dataset(dataset):\n",
    "    \"\"\"\n",
    "    Print a comprehensive summary of the iris dataset including:\n",
    "    - Dataset dimensions\n",
    "    - First 10 rows\n",
    "    - Statistical summary\n",
    "    - Class distribution\n",
    "    \"\"\"\n",
    "    # Print dataset dimensions\n",
    "    print(\"Dataset dimension:\")\n",
    "    print(f\"({dataset.shape[0]}, {dataset.shape[1]})\")\n",
    "    print()  # Empty line\n",
    "\n",
    "    # Print first 10 rows\n",
    "    print(\"First 10 rows of dataset:\")\n",
    "    print(dataset.head(10).to_string())\n",
    "    print()  # Empty line\n",
    "\n",
    "    # Print statistical summary\n",
    "    print(\"Statistical summary:\")\n",
    "    print(dataset.describe().to_string())\n",
    "    print()  # Empty line\n",
    "\n",
    "    # Print class distribution\n",
    "    print(\"Class Distribution:\")\n",
    "    print(\"class\")\n",
    "    class_counts = dataset['class'].value_counts().sort_index()\n",
    "    for class_name, count in class_counts.items():\n",
    "        print(f\"{class_name:<18} {count}\")\n",
    "    print(\"dtype: int64\")"
   ]
  },
  {
   "cell_type": "code",
   "execution_count": 52,
   "id": "af478ecc",
   "metadata": {},
   "outputs": [],
   "source": [
    "from pandas.plotting import scatter_matrix\n",
    "from matplotlib import pyplot\n",
    "\n",
    "# Visualize the dataset\n",
    "def print_plot_univariate(dataset):\n",
    "    dataset.hist()\n",
    "    pyplot.show()\n",
    "\n",
    "def print_plot_multivariate(dataset):\n",
    "    scatter_matrix(dataset , color='yellow')\n",
    "    pyplot.show()"
   ]
  },
  {
   "cell_type": "code",
   "execution_count": 53,
   "id": "3dad7ab9",
   "metadata": {},
   "outputs": [
    {
     "ename": "ModuleNotFoundError",
     "evalue": "No module named 'sklearn'",
     "output_type": "error",
     "traceback": [
      "\u001b[0;31m---------------------------------------------------------------------------\u001b[0m",
      "\u001b[0;31mModuleNotFoundError\u001b[0m                       Traceback (most recent call last)",
      "\u001b[0;32m<ipython-input-53-ba12400ecbca>\u001b[0m in \u001b[0;36m<module>\u001b[0;34m\u001b[0m\n\u001b[0;32m----> 1\u001b[0;31m \u001b[0;32mfrom\u001b[0m \u001b[0msklearn\u001b[0m\u001b[0;34m.\u001b[0m\u001b[0mmodel_selection\u001b[0m \u001b[0;32mimport\u001b[0m \u001b[0mtrain_test_split\u001b[0m\u001b[0;34m\u001b[0m\u001b[0;34m\u001b[0m\u001b[0m\n\u001b[0m\u001b[1;32m      2\u001b[0m \u001b[0;32mfrom\u001b[0m \u001b[0msklearn\u001b[0m\u001b[0;34m.\u001b[0m\u001b[0mtree\u001b[0m \u001b[0;32mimport\u001b[0m \u001b[0mDecisionTreeClassifier\u001b[0m\u001b[0;34m\u001b[0m\u001b[0;34m\u001b[0m\u001b[0m\n\u001b[1;32m      3\u001b[0m \u001b[0;32mfrom\u001b[0m \u001b[0msklearn\u001b[0m\u001b[0;34m.\u001b[0m\u001b[0mmodel_selection\u001b[0m \u001b[0;32mimport\u001b[0m \u001b[0mcross_val_score\u001b[0m\u001b[0;34m,\u001b[0m \u001b[0mKFold\u001b[0m\u001b[0;34m\u001b[0m\u001b[0;34m\u001b[0m\u001b[0m\n\u001b[1;32m      4\u001b[0m \u001b[0;32mfrom\u001b[0m \u001b[0msklearn\u001b[0m\u001b[0;34m.\u001b[0m\u001b[0mnaive_bayes\u001b[0m \u001b[0;32mimport\u001b[0m \u001b[0mGaussianNB\u001b[0m\u001b[0;34m\u001b[0m\u001b[0;34m\u001b[0m\u001b[0m\n\u001b[1;32m      5\u001b[0m \u001b[0;32mfrom\u001b[0m \u001b[0msklearn\u001b[0m\u001b[0;34m.\u001b[0m\u001b[0mneighbors\u001b[0m \u001b[0;32mimport\u001b[0m \u001b[0mKNeighborsClassifier\u001b[0m\u001b[0;34m\u001b[0m\u001b[0;34m\u001b[0m\u001b[0m\n",
      "\u001b[0;31mModuleNotFoundError\u001b[0m: No module named 'sklearn'"
     ]
    }
   ],
   "source": [
    "from sklearn.model_selection import train_test_split\n",
    "from sklearn.tree import DecisionTreeClassifier \n",
    "from sklearn.model_selection import cross_val_score, KFold\n",
    "from sklearn.naive_bayes import GaussianNB\n",
    "from sklearn.neighbors import KNeighborsClassifier\n",
    "from sklearn.linear_model import LogisticRegression\n",
    "from sklearn.discriminant_analysis import LinearDiscriminantAnalysis\n",
    "from sklearn.svm import SVC\n",
    "\n",
    "def my_print_and_test_models(dataset):\n",
    "    array = dataset.values\n",
    "    X = array[:,0:4]\n",
    "    Y = array[:,4]\n",
    "    X_train , X_test , Y_train , Y_test = train_test_split(X,Y, test_size=0.20, random_state=1 , shuffle=True) \n",
    "    \n",
    "    # DecisionTree\n",
    "    model = DecisionTreeClassifier()\n",
    "    model.fit(X_train, Y_train)\n",
    "    print(model.predict(X_test))\n",
    "    kfold = KFold(n_splits=2, shuffle=True, random_state=1)\n",
    "    cv_results = cross_val_score(model, X_train, Y_train, cv=kfold, scoring='accuracy')\n",
    "    print(\"DecisionTree:\", cv_results.mean(), \"(\",cv_results.std(),\")\")\n",
    "    \n",
    "    # GaussianNB\n",
    "    model = GaussianNB()\n",
    "    model.fit(X_train, Y_train)\n",
    "    cv_results = cross_val_score(model, X_train, Y_train, cv=kfold, scoring='accuracy')\n",
    "    print(\"GaussianNB:\", cv_results.mean(), \"(\",cv_results.std(),\")\")\n",
    "    \n",
    "    # KNeighbors\n",
    "    model = KNeighborsClassifier()\n",
    "    model.fit(X_train, Y_train)\n",
    "    cv_results = cross_val_score(model, X_train, Y_train, cv=kfold, scoring='accuracy')\n",
    "    print(\"KNeighbors:\", cv_results.mean(), \"(\",cv_results.std(),\")\")\n",
    "    \n",
    "    # LogisticRegression\n",
    "    model = LogisticRegression(solver='liblinear', multi_class='ovr')\n",
    "    model.fit(X_train, Y_train)\n",
    "    cv_results = cross_val_score(model, X_train, Y_train, cv=kfold, scoring='accuracy')\n",
    "    print(\"LogisticRegression:\", cv_results.mean(), \"(\",cv_results.std(),\")\")\n",
    "    \n",
    "    # LinearDiscriminant\n",
    "    model = LinearDiscriminantAnalysis()\n",
    "    model.fit(X_train, Y_train)\n",
    "    cv_results = cross_val_score(model, X_train, Y_train, cv=kfold, scoring='accuracy')\n",
    "    print(\"LinearDiscriminant:\", cv_results.mean(), \"(\",cv_results.std(),\")\")\n",
    "    \n",
    "    # SVM\n",
    "    model = SVC(gamma='auto')\n",
    "    model.fit(X_train, Y_train)\n",
    "    cv_results = cross_val_score(model, X_train, Y_train, cv=kfold, scoring='accuracy')\n",
    "    print(\"SVM:\", cv_results.mean(), \"(\",cv_results.std(),\")\")"
   ]
  },
  {
   "cell_type": "code",
   "execution_count": 54,
   "id": "ad6594f9",
   "metadata": {},
   "outputs": [
    {
     "data": {
      "image/png": "[encoded data removed]",
      "text/plain": [
       "<Figure size 432x288 with 4 Axes>"
      ]
     },
     "metadata": {
      "needs_background": "light"
     },
     "output_type": "display_data"
    },
    {
     "name": "stdout",
     "output_type": "stream",
     "text": [
      "None\n"
     ]
    }
   ],
   "source": [
    "dataset = load_dataset()\n",
    "print(print_plot_univariate(dataset))"
   ]
  },
  {
   "cell_type": "code",
   "execution_count": null,
   "id": "36586326",
   "metadata": {},
   "outputs": [],
   "source": []
  }
 ],
 "metadata": {
  "kernelspec": {
   "display_name": "Python 3",
   "language": "python",
   "name": "python3"
  },
  "language_info": {
   "codemirror_mode": {
    "name": "ipython",
    "version": 3
   },
   "file_extension": ".py",
   "mimetype": "text/x-python",
   "name": "python",
   "nbconvert_exporter": "python",
   "pygments_lexer": "ipython3",
   "version": "3.6.7"
  }
 },
 "nbformat": 4,
 "nbformat_minor": 5
}
